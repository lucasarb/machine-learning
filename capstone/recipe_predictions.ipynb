{
 "cells": [
  {
   "cell_type": "code",
   "execution_count": 9,
   "metadata": {
    "collapsed": false
   },
   "outputs": [],
   "source": [
    "from __future__ import division\n",
    "import time\n",
    "import pandas as pd\n",
    "import matplotlib.pyplot as plt\n",
    "import numpy as np\n",
    "import re\n",
    "import matplotlib.pyplot as plt\n",
    "import matplotlib\n",
    "import seaborn as sns\n",
    "from nltk.stem import WordNetLemmatizer\n",
    "from collections import Counter\n",
    "\n",
    "#\n",
    "from sklearn.feature_extraction.text import TfidfVectorizer\n",
    "from sklearn.decomposition import TruncatedSVD\n",
    "from sklearn.pipeline import make_pipeline\n",
    "from sklearn.preprocessing import Normalizer, LabelEncoder\n",
    "from sklearn.model_selection import train_test_split\n",
    "from sklearn.neural_network import MLPClassifier\n",
    "\n",
    "#define matplotlib styles\n",
    "matplotlib.style.use('fivethirtyeight')\n",
    "%matplotlib inline"
   ]
  },
  {
   "cell_type": "code",
   "execution_count": 13,
   "metadata": {
    "collapsed": false
   },
   "outputs": [
    {
     "data": {
      "text/html": [
       "<div>\n",
       "<table border=\"1\" class=\"dataframe\">\n",
       "  <thead>\n",
       "    <tr style=\"text-align: right;\">\n",
       "      <th></th>\n",
       "      <th>cuisine</th>\n",
       "      <th>id</th>\n",
       "      <th>ingredients_string</th>\n",
       "    </tr>\n",
       "  </thead>\n",
       "  <tbody>\n",
       "    <tr>\n",
       "      <th>0</th>\n",
       "      <td>greek</td>\n",
       "      <td>10259</td>\n",
       "      <td>romaine lettuce black olives grape tomatoes ga...</td>\n",
       "    </tr>\n",
       "    <tr>\n",
       "      <th>1</th>\n",
       "      <td>southern_us</td>\n",
       "      <td>25693</td>\n",
       "      <td>plain flour ground pepper salt tomato ground b...</td>\n",
       "    </tr>\n",
       "    <tr>\n",
       "      <th>2</th>\n",
       "      <td>filipino</td>\n",
       "      <td>20130</td>\n",
       "      <td>egg pepper salt mayonaise cooking oil green ch...</td>\n",
       "    </tr>\n",
       "    <tr>\n",
       "      <th>3</th>\n",
       "      <td>indian</td>\n",
       "      <td>22213</td>\n",
       "      <td>water vegetable oil wheat salt</td>\n",
       "    </tr>\n",
       "    <tr>\n",
       "      <th>4</th>\n",
       "      <td>indian</td>\n",
       "      <td>13162</td>\n",
       "      <td>black pepper shallot cornflour cayenne pepper ...</td>\n",
       "    </tr>\n",
       "  </tbody>\n",
       "</table>\n",
       "</div>"
      ],
      "text/plain": [
       "       cuisine     id                                 ingredients_string\n",
       "0        greek  10259  romaine lettuce black olives grape tomatoes ga...\n",
       "1  southern_us  25693  plain flour ground pepper salt tomato ground b...\n",
       "2     filipino  20130  egg pepper salt mayonaise cooking oil green ch...\n",
       "3       indian  22213                     water vegetable oil wheat salt\n",
       "4       indian  13162  black pepper shallot cornflour cayenne pepper ..."
      ]
     },
     "execution_count": 13,
     "metadata": {},
     "output_type": "execute_result"
    }
   ],
   "source": [
    "data = pd.read_csv('train_modified.csv')\n",
    "#test = pd.read_csv('test_modified.csv')\n",
    "\n",
    "#data = pd.concat([train,test], ignore_index=True)\n",
    "\n",
    "number_classes = (len(pd.Series.unique(data['cuisine'])))\n",
    "lbl_enc = LabelEncoder()\n",
    "\n",
    "data.head()"
   ]
  },
  {
   "cell_type": "code",
   "execution_count": 14,
   "metadata": {
    "collapsed": false
   },
   "outputs": [],
   "source": [
    "corpustr = data['ingredients_string']\n",
    "vectorizertr = TfidfVectorizer(stop_words='english', ngram_range = ( 1, 1),analyzer=\"word\", \n",
    "                               max_df = .6 , binary=False , token_pattern=r'\\w+' , sublinear_tf=False, norm = 'l2')\n",
    "\n"
   ]
  },
  {
   "cell_type": "code",
   "execution_count": 15,
   "metadata": {
    "collapsed": false
   },
   "outputs": [
    {
     "data": {
      "text/plain": [
       "(39774, 3018)"
      ]
     },
     "execution_count": 15,
     "metadata": {},
     "output_type": "execute_result"
    }
   ],
   "source": [
    "count_matrix = vectorizertr.fit_transform(corpustr)\n",
    "count_matrix.shape"
   ]
  },
  {
   "cell_type": "code",
   "execution_count": null,
   "metadata": {
    "collapsed": true
   },
   "outputs": [],
   "source": []
  },
  {
   "cell_type": "code",
   "execution_count": 16,
   "metadata": {
    "collapsed": true
   },
   "outputs": [],
   "source": [
    "targets = data['cuisine']\n",
    "targets = lbl_enc.fit_transform(targets)"
   ]
  },
  {
   "cell_type": "code",
   "execution_count": 17,
   "metadata": {
    "collapsed": false
   },
   "outputs": [],
   "source": [
    "x_train, x_test, y_train, y_test = train_test_split(count_matrix ,targets ,test_size = 0.33, random_state = 42)"
   ]
  },
  {
   "cell_type": "code",
   "execution_count": 18,
   "metadata": {
    "collapsed": false
   },
   "outputs": [],
   "source": [
    "from sklearn.svm import LinearSVC\n",
    "clf_SVM = LinearSVC()\n",
    "\n",
    "start = time.time()\n",
    "clf_SVM.fit(x_train,y_train)\n",
    "end = time.time()"
   ]
  },
  {
   "cell_type": "code",
   "execution_count": 19,
   "metadata": {
    "collapsed": false
   },
   "outputs": [
    {
     "name": "stdout",
     "output_type": "stream",
     "text": [
      "Time for Training: 1.48001599312\n",
      "SVM Train score: 0.8670\n",
      "SVM Test score: 0.7854\n"
     ]
    }
   ],
   "source": [
    "print \"Time for Training: {}\".format(end - start)\n",
    "print \"SVM Train score: %.4f\" % clf_SVM.score(x_train,y_train)\n",
    "print \"SVM Test score: %.4f\" % clf_SVM.score(x_test,y_test)"
   ]
  },
  {
   "cell_type": "code",
   "execution_count": 9,
   "metadata": {
    "collapsed": false
   },
   "outputs": [
    {
     "name": "stderr",
     "output_type": "stream",
     "text": [
      "/Users/lucas/anaconda2/lib/python2.7/site-packages/sklearn/cross_validation.py:44: DeprecationWarning: This module was deprecated in version 0.18 in favor of the model_selection module into which all the refactored classes and functions are moved. Also note that the interface of the new CV iterators are different from that of this module. This module will be removed in 0.20.\n",
      "  \"This module will be removed in 0.20.\", DeprecationWarning)\n"
     ]
    }
   ],
   "source": [
    "from xgboost.sklearn import XGBClassifier\n",
    "from sklearn import metrics\n",
    "from sklearn.model_selection import GridSearchCV   \n",
    "\n",
    "clf_xgb = XGBClassifier(learning_rate =0.1,\n",
    "                        n_estimators=1000,\n",
    "                        max_depth=3,\n",
    "                        min_child_weight=1,\n",
    "                        gamma=0,\n",
    "                        subsample=0.8,\n",
    "                        colsample_bytree=0.8,\n",
    "                        objective= 'multi:softmax',\n",
    "                        nthread = 4,\n",
    "                        scale_pos_weight=1,\n",
    "                        seed=27)\n",
    "start = time.time()\n",
    "clf_xgb.fit(x_train,y_train, eval_metric='merror')\n",
    "end = time.time()"
   ]
  },
  {
   "cell_type": "code",
   "execution_count": 10,
   "metadata": {
    "collapsed": false
   },
   "outputs": [],
   "source": [
    "prediction_train = clf_xgb.predict(x_train)\n",
    "prediction_test = clf_xgb.predict(x_test)"
   ]
  },
  {
   "cell_type": "code",
   "execution_count": 11,
   "metadata": {
    "collapsed": false
   },
   "outputs": [
    {
     "name": "stdout",
     "output_type": "stream",
     "text": [
      "Time for Training: 516.27013588\n",
      "XGboost Train score: 0.9533\n",
      "XGboost Test score: 0.7887\n"
     ]
    }
   ],
   "source": [
    "print \"Time for Training: {}\".format(end - start)\n",
    "print \"XGboost Train score: %.4f\" %(metrics.accuracy_score(y_train,prediction_train))\n",
    "print \"XGboost Test score: %.4f\" %(metrics.accuracy_score(y_test,prediction_test))"
   ]
  },
  {
   "cell_type": "code",
   "execution_count": 13,
   "metadata": {
    "collapsed": false
   },
   "outputs": [
    {
     "name": "stdout",
     "output_type": "stream",
     "text": [
      "Time for Training: 0.654016971588\n",
      "NB Train score: 0.6771\n",
      "NB Test score: 0.6598\n"
     ]
    }
   ],
   "source": [
    "from sklearn.naive_bayes import MultinomialNB\n",
    "\n",
    "clf_NB = MultinomialNB()\n",
    "\n",
    "start = time.time()\n",
    "clf_NB.fit(x_train.toarray(),y_train)\n",
    "end = time.time()\n",
    "\n",
    "print \"Time for Training: {}\".format(end - start)\n",
    "print \"NB Train score: %.4f\" % clf_NB.score(x_train.toarray(),y_train)\n",
    "print \"NB Test score: %.4f\" % clf_NB.score(x_test.toarray(),y_test)"
   ]
  },
  {
   "cell_type": "code",
   "execution_count": 14,
   "metadata": {
    "collapsed": false
   },
   "outputs": [
    {
     "name": "stdout",
     "output_type": "stream",
     "text": [
      "Time for Training: 10.4978721142\n",
      "SGD Train score: 0.7983\n",
      "SGD Test score: 0.7608\n"
     ]
    }
   ],
   "source": [
    "from sklearn import linear_model\n",
    "\n",
    "clf_SGD = linear_model.SGDClassifier()\n",
    "\n",
    "start = time.time()\n",
    "clf_SGD.fit(x_train.toarray(),y_train)\n",
    "end = time.time()\n",
    "\n",
    "print \"Time for Training: {}\".format(end - start)\n",
    "print \"SGD Train score: %.4f\" % clf_SGD.score(x_train.toarray(),y_train)\n",
    "print \"SGD Test score: %.4f\" % clf_SGD.score(x_test.toarray(),y_test)"
   ]
  },
  {
   "cell_type": "code",
   "execution_count": 15,
   "metadata": {
    "collapsed": false
   },
   "outputs": [
    {
     "name": "stdout",
     "output_type": "stream",
     "text": [
      "Time for Training: 140.771771908\n",
      "SGD Train score: 0.8687\n",
      "SGD Test score: 0.7643\n"
     ]
    }
   ],
   "source": [
    "from sklearn.neural_network import MLPClassifier\n",
    "\n",
    "clf_MLP = MLPClassifier(solver = 'lbfgs', alpha = 1e-2, hidden_layer_sizes=(60,50), random_state=42)\n",
    "\n",
    "start = time.time()\n",
    "clf_MLP.fit(x_train.toarray(),y_train)\n",
    "end = time.time()\n",
    "\n",
    "print \"Time for Training: {}\".format(end - start)\n",
    "print \"SGD Train score: %.4f\" % clf_MLP.score(x_train.toarray(),y_train)\n",
    "print \"SGD Test score: %.4f\" % clf_MLP.score(x_test.toarray(),y_test)"
   ]
  },
  {
   "cell_type": "code",
   "execution_count": 16,
   "metadata": {
    "collapsed": false
   },
   "outputs": [
    {
     "name": "stdout",
     "output_type": "stream",
     "text": [
      "Time for Training: 7.72605681419\n",
      "SGD Train score: 0.9929\n",
      "SGD Test score: 0.6826\n"
     ]
    }
   ],
   "source": [
    "from sklearn.ensemble import RandomForestClassifier\n",
    "\n",
    "clf_RF = RandomForestClassifier()\n",
    "\n",
    "start = time.time()\n",
    "clf_RF.fit(x_train.toarray(),y_train)\n",
    "end = time.time()\n",
    "\n",
    "print \"Time for Training: {}\".format(end - start)\n",
    "print \"SGD Train score: %.4f\" % clf_RF.score(x_train.toarray(),y_train)\n",
    "print \"SGD Test score: %.4f\" % clf_RF.score(x_test.toarray(),y_test)"
   ]
  },
  {
   "cell_type": "code",
   "execution_count": 28,
   "metadata": {
    "collapsed": false
   },
   "outputs": [
    {
     "data": {
      "text/plain": [
       "GridSearchCV(cv=None, error_score='raise',\n",
       "       estimator=LinearSVC(C=1.0, class_weight=None, dual=True, fit_intercept=True,\n",
       "     intercept_scaling=1, loss='squared_hinge', max_iter=1000,\n",
       "     multi_class='ovr', penalty='l2', random_state=None, tol=0.0001,\n",
       "     verbose=0),\n",
       "       fit_params={}, iid=True, n_jobs=1,\n",
       "       param_grid=[{'C': [1, 10, 100, 100]}], pre_dispatch='2*n_jobs',\n",
       "       refit=True, return_train_score=True, scoring=None, verbose=0)"
      ]
     },
     "execution_count": 28,
     "metadata": {},
     "output_type": "execute_result"
    }
   ],
   "source": [
    "param_grid = [{'C':[1,10,100,100]}]\n",
    "\n",
    "clf_GS = GridSearchCV(clf_SVM,param_grid=param_grid)\n",
    "\n",
    "clf_GS.fit(x_train,y_train)"
   ]
  },
  {
   "cell_type": "code",
   "execution_count": 30,
   "metadata": {
    "collapsed": false
   },
   "outputs": [],
   "source": [
    "from sklearn.model_selection import cross_val_score\n",
    "\n",
    "scores = cross_val_score(clf_SVC,x_train,y_train,cv = 5)"
   ]
  },
  {
   "cell_type": "code",
   "execution_count": 31,
   "metadata": {
    "collapsed": false
   },
   "outputs": [
    {
     "data": {
      "text/plain": [
       "array([ 0.77848576,  0.77873617,  0.7727955 ,  0.7805107 ,  0.77268458])"
      ]
     },
     "execution_count": 31,
     "metadata": {},
     "output_type": "execute_result"
    }
   ],
   "source": [
    "scores"
   ]
  },
  {
   "cell_type": "code",
   "execution_count": null,
   "metadata": {
    "collapsed": true
   },
   "outputs": [],
   "source": []
  }
 ],
 "metadata": {
  "kernelspec": {
   "display_name": "Python 2",
   "language": "python",
   "name": "python2"
  },
  "language_info": {
   "codemirror_mode": {
    "name": "ipython",
    "version": 2
   },
   "file_extension": ".py",
   "mimetype": "text/x-python",
   "name": "python",
   "nbconvert_exporter": "python",
   "pygments_lexer": "ipython2",
   "version": "2.7.11"
  }
 },
 "nbformat": 4,
 "nbformat_minor": 0
}
